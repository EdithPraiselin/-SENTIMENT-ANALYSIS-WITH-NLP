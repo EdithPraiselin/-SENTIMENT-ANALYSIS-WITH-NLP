{
  "nbformat": 4,
  "nbformat_minor": 0,
  "metadata": {
    "colab": {
      "provenance": [],
      "mount_file_id": "1Ojrn-q0Zz13efPkMSSTCEMaE16mtFlww",
      "authorship_tag": "ABX9TyO+h5eptgBAL3Uksb26UBEZ",
      "include_colab_link": true
    },
    "kernelspec": {
      "name": "python3",
      "display_name": "Python 3"
    },
    "language_info": {
      "name": "python"
    }
  },
  "cells": [
    {
      "cell_type": "markdown",
      "metadata": {
        "id": "view-in-github",
        "colab_type": "text"
      },
      "source": [
        "<a href=\"https://colab.research.google.com/github/EdithPraiselin/-SENTIMENT-ANALYSIS-WITH-NLP/blob/main/Task2.ipynb\" target=\"_parent\"><img src=\"https://colab.research.google.com/assets/colab-badge.svg\" alt=\"Open In Colab\"/></a>"
      ]
    },
    {
      "cell_type": "code",
      "source": [
        "from google.colab import drive\n",
        "drive.mount('/content/drive')"
      ],
      "metadata": {
        "colab": {
          "base_uri": "https://localhost:8080/"
        },
        "id": "wcXHdtFO33Y6",
        "outputId": "4e2cf32e-ce7b-40a7-f380-e4a2b70cc328"
      },
      "execution_count": null,
      "outputs": [
        {
          "output_type": "stream",
          "name": "stdout",
          "text": [
            "Mounted at /content/drive\n"
          ]
        }
      ]
    },
    {
      "cell_type": "code",
      "source": [
        "import tarfile\n",
        "\n",
        "tar_path = \"/content/drive/My Drive/dataset1.tar.gz\"  # Update path\n",
        "extract_path = \"/content/dataset\"\n",
        "\n",
        "with tarfile.open(tar_path, \"r:gz\") as tar_ref:\n",
        "    tar_ref.extractall(extract_path)\n",
        "\n",
        "print(\"Files extracted successfully!\")\n",
        "\n"
      ],
      "metadata": {
        "colab": {
          "base_uri": "https://localhost:8080/"
        },
        "id": "OTHeLUBb-3a7",
        "outputId": "ae44f044-917f-48bc-cdf3-797551c85e14"
      },
      "execution_count": null,
      "outputs": [
        {
          "output_type": "stream",
          "name": "stdout",
          "text": [
            "Files extracted successfully!\n"
          ]
        }
      ]
    },
    {
      "cell_type": "code",
      "source": [
        "import os\n",
        "import pandas as pd\n",
        "\n",
        "# Function to load files from a folder\n",
        "def load_reviews_from_folder(folder, label):\n",
        "    reviews = []\n",
        "    for filename in os.listdir(folder):\n",
        "        file_path = os.path.join(folder, filename)\n",
        "        with open(file_path, \"r\", encoding=\"utf-8\") as file:\n",
        "            reviews.append(file.read())\n",
        "    return pd.DataFrame({\"review\": reviews, \"sentiment\": label})\n",
        "\n",
        "# Define dataset paths\n",
        "train_pos_path = \"/content/dataset/aclImdb/train/pos\"\n",
        "train_neg_path = \"/content/dataset/aclImdb/train/neg\"\n",
        "test_pos_path = \"/content/dataset/aclImdb/test/pos\"\n",
        "test_neg_path = \"/content/dataset/aclImdb/test/neg\"\n",
        "\n",
        "# Load data\n",
        "train_pos = load_reviews_from_folder(train_pos_path, 1)  # Positive = 1\n",
        "train_neg = load_reviews_from_folder(train_neg_path, 0)  # Negative = 0\n",
        "test_pos = load_reviews_from_folder(test_pos_path, 1)\n",
        "test_neg = load_reviews_from_folder(test_neg_path, 0)\n",
        "\n",
        "# Combine positive and negative reviews\n",
        "df_train = pd.concat([train_pos, train_neg]).sample(frac=1).reset_index(drop=True)  # Shuffle\n",
        "df_test = pd.concat([test_pos, test_neg]).sample(frac=1).reset_index(drop=True)\n",
        "\n",
        "# Display sample data\n",
        "print(df_train.head())\n",
        "print(df_test.head())\n"
      ],
      "metadata": {
        "colab": {
          "base_uri": "https://localhost:8080/"
        },
        "id": "I84GCifjE9-Y",
        "outputId": "b671e392-26aa-46fa-a093-1453b0ef7329"
      },
      "execution_count": null,
      "outputs": [
        {
          "output_type": "stream",
          "name": "stdout",
          "text": [
            "                                              review  sentiment\n",
            "0  Viggo Mortensen stars as a new inmate of a hau...          1\n",
            "1  it was the worst ending i have ever seen if so...          0\n",
            "2  Ok, so, this is coming a few weeks late, but i...          1\n",
            "3  Since Educating Rita, Julie Walters has been o...          1\n",
            "4  This is an EXCELLENT example of early Bette Da...          1\n",
            "                                              review  sentiment\n",
            "0  The Vietnam War era is certainly far before my...          1\n",
            "1  I realize why people hate this film. And, I ha...          0\n",
            "2  This piece of crap doesn't worth a critical re...          0\n",
            "3  This movie is funny if you're the gentleman wh...          0\n",
            "4  Great premise, poor execution. Cast of great a...          0\n"
          ]
        }
      ]
    },
    {
      "cell_type": "code",
      "execution_count": null,
      "metadata": {
        "colab": {
          "base_uri": "https://localhost:8080/"
        },
        "id": "VqD1zhOMl8eN",
        "outputId": "26f1280f-60d8-4aac-a401-099a67f9e9f7"
      },
      "outputs": [
        {
          "output_type": "stream",
          "name": "stdout",
          "text": [
            "Accuracy: 0.88232\n",
            "              precision    recall  f1-score   support\n",
            "\n",
            "           0       0.88      0.88      0.88     12500\n",
            "           1       0.88      0.89      0.88     12500\n",
            "\n",
            "    accuracy                           0.88     25000\n",
            "   macro avg       0.88      0.88      0.88     25000\n",
            "weighted avg       0.88      0.88      0.88     25000\n",
            "\n"
          ]
        }
      ],
      "source": [
        "import os\n",
        "import pandas as pd\n",
        "import numpy as np\n",
        "import re\n",
        "import string\n",
        "from sklearn.model_selection import train_test_split\n",
        "from sklearn.feature_extraction.text import TfidfVectorizer\n",
        "from sklearn.linear_model import LogisticRegression\n",
        "from sklearn.metrics import accuracy_score, classification_report\n",
        "from google.colab import drive\n",
        "\n",
        "# Define dataset paths\n",
        "train_pos_path = \"/content/dataset/aclImdb/train/pos\"\n",
        "train_neg_path = \"/content/dataset/aclImdb/train/neg\"\n",
        "test_pos_path = \"/content/dataset/aclImdb/test/pos\"\n",
        "test_neg_path = \"/content/dataset/aclImdb/test/neg\"\n",
        "\n",
        "# Function to read text files and assign labels\n",
        "def load_reviews_from_folder(folder, label):\n",
        "    reviews = []\n",
        "    for filename in os.listdir(folder):\n",
        "        file_path = os.path.join(folder, filename)\n",
        "        with open(file_path, \"r\", encoding=\"utf-8\") as file:\n",
        "            reviews.append(file.read())\n",
        "    return pd.DataFrame({\"review\": reviews, \"sentiment\": label})\n",
        "\n",
        "# Load and label train/test data\n",
        "train_pos = load_reviews_from_folder(train_pos_path, 1)  # Positive = 1\n",
        "train_neg = load_reviews_from_folder(train_neg_path, 0)  # Negative = 0\n",
        "test_pos = load_reviews_from_folder(test_pos_path, 1)\n",
        "test_neg = load_reviews_from_folder(test_neg_path, 0)\n",
        "\n",
        "# Combine positive and negative reviews\n",
        "df_train = pd.concat([train_pos, train_neg]).sample(frac=1).reset_index(drop=True)\n",
        "df_test = pd.concat([test_pos, test_neg]).sample(frac=1).reset_index(drop=True)\n",
        "\n",
        "# Text Cleaning Function\n",
        "def clean_text(text):\n",
        "    text = text.lower()  # Convert to lowercase\n",
        "    text = re.sub(f\"[{string.punctuation}]\", \"\", text)  # Remove punctuation\n",
        "    text = re.sub(r'\\d+', '', text)  # Remove numbers\n",
        "    return text.strip()\n",
        "\n",
        "# Apply cleaning function\n",
        "df_train['cleaned_review'] = df_train['review'].apply(clean_text)\n",
        "df_test['cleaned_review'] = df_test['review'].apply(clean_text)\n",
        "\n",
        "# Convert text to TF-IDF features\n",
        "vectorizer = TfidfVectorizer(max_features=5000)  # Limit features for efficiency\n",
        "X_train_tfidf = vectorizer.fit_transform(df_train['cleaned_review'])\n",
        "X_test_tfidf = vectorizer.transform(df_test['cleaned_review'])\n",
        "\n",
        "# Train Logistic Regression Model\n",
        "model = LogisticRegression()\n",
        "model.fit(X_train_tfidf, df_train['sentiment'])\n",
        "\n",
        "# Predictions\n",
        "y_pred = model.predict(X_test_tfidf)\n",
        "\n",
        "# Evaluate Model\n",
        "print(\"Accuracy:\", accuracy_score(df_test['sentiment'], y_pred))\n",
        "print(classification_report(df_test['sentiment'], y_pred))\n",
        "\n"
      ]
    }
  ]
}